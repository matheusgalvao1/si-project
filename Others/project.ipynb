{
 "cells": [
  {
   "cell_type": "markdown",
   "id": "9d89e4e2",
   "metadata": {},
   "source": [
    "## Project for the course of Intelligent Systems 2022\n",
    " - Matheus Galvão\n",
    " - Matteo Prina\n",
    " - Luan Klein "
   ]
  },
  {
   "cell_type": "code",
   "execution_count": 5,
   "id": "b4383f38",
   "metadata": {},
   "outputs": [],
   "source": [
    "import torch\n",
    "from transformers import AutoTokenizer, AutoModel\n",
    "import torch.nn as nn\n",
    "from torchvision import datasets\n",
    "from torchvision import transforms\n",
    "import json"
   ]
  },
  {
   "cell_type": "code",
   "execution_count": 2,
   "id": "efaa6516",
   "metadata": {},
   "outputs": [],
   "source": [
    "with open(\"data/train-v2.0.json\", 'r') as f:\n",
    "    data = json.load(f)"
   ]
  },
  {
   "cell_type": "code",
   "execution_count": 3,
   "id": "1524f95a",
   "metadata": {},
   "outputs": [
    {
     "name": "stdout",
     "output_type": "stream",
     "text": [
      "Number of available questions: 357\n"
     ]
    }
   ],
   "source": [
    "# get the available questions and answers for a given topic\n",
    "def get_qa(topic, data):\n",
    "    q = []\n",
    "    a = []\n",
    "    for d in data['data']:\n",
    "        if d['title']==topic:\n",
    "            for paragraph in d['paragraphs']:\n",
    "                for qa in paragraph['qas']:\n",
    "                    if not qa['is_impossible']:\n",
    "                        q.append(qa['question'])\n",
    "                        a.append(qa['answers'][0]['text'])\n",
    "            return q,a\n",
    "\n",
    "questions, answers = get_qa(topic='Premier_League', data=data)\n",
    "\n",
    "print(\"Number of available questions: {}\".format(len(questions)))"
   ]
  },
  {
   "cell_type": "code",
   "execution_count": 6,
   "id": "02868209",
   "metadata": {},
   "outputs": [],
   "source": [
    "def get_model(model_name):\n",
    "    model = AutoModel.from_pretrained(model_name)\n",
    "    tokenizer = AutoTokenizer.from_pretrained(model_name)\n",
    "    return model, tokenizer\n",
    "  \n",
    "model, tokenizer = get_model(model_name=\"paraphrase-MiniLM-L6-v2\")"
   ]
  },
  {
   "cell_type": "code",
   "execution_count": 7,
   "id": "832c65c6",
   "metadata": {},
   "outputs": [
    {
     "name": "stdout",
     "output_type": "stream",
     "text": [
      "Embeddings shape: torch.Size([3, 384])\n"
     ]
    }
   ],
   "source": [
    "# Mean Pooling - Take attention mask into account for correct averaging\n",
    "# source: https://huggingface.co/sentence-transformers/paraphrase-MiniLM-L6-v2\n",
    "def mean_pooling(model_output, attention_mask):\n",
    "    token_embeddings = model_output[0]\n",
    "    \n",
    "    input_mask_expanded = (\n",
    "      attention_mask\n",
    "      .unsqueeze(-1)\n",
    "      .expand(token_embeddings.size())\n",
    "      .float()\n",
    "    )\n",
    "    \n",
    "    pool_emb = (\n",
    "      torch.sum(token_embeddings * input_mask_expanded, 1) \n",
    "      / torch.clamp(input_mask_expanded.sum(1), min=1e-9)\n",
    "    )\n",
    "    \n",
    "    return pool_emb\n",
    "\n",
    "def get_embeddings(questions, tokenizer, model):\n",
    "  # Tokenize sentences\n",
    "  encoded_input = tokenizer(questions, padding=True, truncation=True, return_tensors='pt')\n",
    "\n",
    "  # Compute token embeddings\n",
    "  with torch.no_grad():\n",
    "      model_output = model(**encoded_input)\n",
    "\n",
    "  # Average pooling\n",
    "  embeddings = mean_pooling(model_output, encoded_input['attention_mask']) \n",
    "  \n",
    "  return embeddings\n",
    "\n",
    "embeddings = get_embeddings(questions[:3], tokenizer, model)\n",
    "print(\"Embeddings shape: {}\".format(embeddings.shape))"
   ]
  },
  {
   "cell_type": "code",
   "execution_count": 8,
   "id": "eddb8f3e",
   "metadata": {},
   "outputs": [
    {
     "data": {
      "text/plain": [
       "tensor([71.4030, 59.8726, 23.9430])"
      ]
     },
     "execution_count": 8,
     "metadata": {},
     "output_type": "execute_result"
    }
   ],
   "source": [
    "new_question = 'Which days have the most events played at?'\n",
    "new_embedding = get_embeddings([new_question], tokenizer, model)\n",
    "\n",
    "# squared Euclidean distance between sample questions and new_question\n",
    "((embeddings - new_embedding)**2).sum(axis=1)"
   ]
  },
  {
   "cell_type": "code",
   "execution_count": null,
   "id": "250e5a78",
   "metadata": {},
   "outputs": [],
   "source": []
  }
 ],
 "metadata": {
  "kernelspec": {
   "display_name": "Python 3 (ipykernel)",
   "language": "python",
   "name": "python3"
  },
  "language_info": {
   "codemirror_mode": {
    "name": "ipython",
    "version": 3
   },
   "file_extension": ".py",
   "mimetype": "text/x-python",
   "name": "python",
   "nbconvert_exporter": "python",
   "pygments_lexer": "ipython3",
   "version": "3.9.13"
  }
 },
 "nbformat": 4,
 "nbformat_minor": 5
}
